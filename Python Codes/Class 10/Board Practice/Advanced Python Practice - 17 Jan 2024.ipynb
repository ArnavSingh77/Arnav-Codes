{
 "cells": [
  {
   "cell_type": "code",
   "execution_count": 7,
   "id": "65324b97",
   "metadata": {},
   "outputs": [
    {
     "name": "stdout",
     "output_type": "stream",
     "text": [
      "Enter Team Name: CSK\n",
      "Enter total runs scored: 220\n",
      "Enter total overs faced: 20\n",
      "Enter total runs conceded: 159\n",
      "Enter total overs bowled: 20\n",
      "The Net Run Rate for team CSK is: 3.05\n"
     ]
    }
   ],
   "source": [
    "# Write a program to compute the net run rate for a tournament.\n",
    "# Take inputs from the user\n",
    "team_name=input(\"Enter Team Name: \")\n",
    "total_runs_scored = int(input(\"Enter total runs scored: \"))\n",
    "total_overs_faced = float(input(\"Enter total overs faced: \"))\n",
    "total_runs_conceded = int(input(\"Enter total runs conceded: \"))\n",
    "total_overs_bowled = float(input(\"Enter total overs bowled: \"))\n",
    "\n",
    "# Calculate the run rate for the team\n",
    "team_run_rate = total_runs_scored / total_overs_faced\n",
    "\n",
    "# Calculate the run rate for the opponent\n",
    "opponent_run_rate = total_runs_conceded / total_overs_bowled\n",
    "\n",
    "# Calculate the Net Run Rate (NRR)\n",
    "nrr = team_run_rate - opponent_run_rate\n",
    "\n",
    "print(\"The Net Run Rate for team\",team_name, \"is: %.2f\"% nrr)"
   ]
  },
  {
   "cell_type": "code",
   "execution_count": 11,
   "id": "0778b53d",
   "metadata": {},
   "outputs": [
    {
     "name": "stdout",
     "output_type": "stream",
     "text": [
      "Enter any character: W\n",
      "W is an uppercase alphabet.\n"
     ]
    }
   ],
   "source": [
    "# Write a program to check whether the given character is an uppercase letter or lowercase letter or a digit or a special character.\n",
    "char = input(\"Enter any character: \")\n",
    "if char.isupper():\n",
    "    print(char, \"is an uppercase alphabet.\")\n",
    "elif char.islower():\n",
    "    print(char, \"is a lowercase alphabet.\")\n",
    "elif char.isdigit():\n",
    "    print(char, \"is a digit.\")\n",
    "elif char.isspace():\n",
    "    print(\"The character is space.\")\n",
    "else:\n",
    "    print(char, \"is a special character.\")"
   ]
  },
  {
   "cell_type": "code",
   "execution_count": 12,
   "id": "b4510138",
   "metadata": {},
   "outputs": [
    {
     "name": "stdout",
     "output_type": "stream",
     "text": [
      "Enter the First Number to Compare: 21\n",
      "Enter the Second Number to Compare: 88\n",
      "Enter the Third Number to Compare: 12\n",
      "Second Number is the Greatest!\n"
     ]
    }
   ],
   "source": [
    "# Write a program to find the maximum number out of the given three numbers.\n",
    "\n",
    "#Taking Input\n",
    "x=int(input(\"Enter the First Number to Compare: \"))\n",
    "y=int(input(\"Enter the Second Number to Compare: \"))\n",
    "z=int(input(\"Enter the Third Number to Compare: \"))\n",
    "\n",
    "#Comparing\n",
    "if x>y and x>z:\n",
    "    print(\"First Number is the Greatest!\")\n",
    "elif y>x and y>z:\n",
    "    print(\"Second Number is the Greatest!\")\n",
    "elif z>x and z>y:\n",
    "    print(\"Third Number is the Greatest!\")\n",
    "else:\n",
    "    print(\"All the entered numbers are the same!\")"
   ]
  },
  {
   "cell_type": "code",
   "execution_count": 19,
   "id": "836bd612",
   "metadata": {},
   "outputs": [
    {
     "name": "stdout",
     "output_type": "stream",
     "text": [
      "============================================================\n",
      "Enter customer number: 1062212360008\n",
      "Enter power consumed: 231\n",
      "============================================================\n",
      "\t\tABC Power Company Ltd.\n",
      "============================================================\n",
      "Your bill amount is: ₹ 263.75\n",
      "============================================================\n"
     ]
    }
   ],
   "source": [
    "'''\n",
    "An electric power distribution company charges its domestic consumers as follows:\n",
    "Write a program that reads the customer number & power consumed and prints the\n",
    "amount to be paid by the customer. Note that output should be well formatted.\n",
    "'''\n",
    "print(\"=\"*60)\n",
    "customer_num = int(input(\"Enter customer number: \"))\n",
    "power_consumed = float(input(\"Enter power consumed: \"))\n",
    "\n",
    "if power_consumed > 0 and power_consumed < 100:\n",
    "    bill_amt = power_consumed\n",
    "elif power_consumed > 101 and power_consumed < 300:\n",
    "    bill_amt = 100 + (power_consumed-100)*1.25\n",
    "elif power_consumed > 301 and power_consumed < 500:\n",
    "    bill_amt = 350 + (power_consumed-300)*1.5\n",
    "elif power_consumed > 500:\n",
    "    bill_amt = 650 + (power_consumed-500)*1.75 \n",
    "else:\n",
    "    print(\"Invalid power consumed units!\")\n",
    "    \n",
    "print(\"=\"*60)\n",
    "print(\"\\t\\tABC Power Company Ltd.\")\n",
    "print(\"=\"*60)\n",
    "print(\"Your bill amount is: ₹\",bill_amt)\n",
    "print(\"=\"*60)"
   ]
  },
  {
   "cell_type": "code",
   "execution_count": 24,
   "id": "3f89d612",
   "metadata": {},
   "outputs": [
    {
     "name": "stdout",
     "output_type": "stream",
     "text": [
      "Enter a number: 153\n",
      "153 is an Armstrong number\n"
     ]
    }
   ],
   "source": [
    "# WAP to Check Armstrong Number\n",
    "\n",
    "# Take input from the user\n",
    "num = input(\"Enter a number: \")\n",
    "\n",
    "# Calculate the length (number of digits)\n",
    "length = len(num)\n",
    "\n",
    "# Convert the input back to integer\n",
    "num = int(num)\n",
    "\n",
    "# Initialize sum\n",
    "sum = 0\n",
    "\n",
    "# Find the sum of the power of each digit\n",
    "temp = num\n",
    "while temp > 0:\n",
    "   digit = temp % 10\n",
    "   sum += digit ** length\n",
    "   temp //= 10\n",
    "\n",
    "# Display the result\n",
    "if num == sum:\n",
    "   print(num,\"is an Armstrong number\")\n",
    "else:\n",
    "   print(num,\"is not an Armstrong number\")\n"
   ]
  },
  {
   "cell_type": "code",
   "execution_count": null,
   "id": "3d02ec24",
   "metadata": {},
   "outputs": [],
   "source": []
  }
 ],
 "metadata": {
  "kernelspec": {
   "display_name": "Python 3 (ipykernel)",
   "language": "python",
   "name": "python3"
  },
  "language_info": {
   "codemirror_mode": {
    "name": "ipython",
    "version": 3
   },
   "file_extension": ".py",
   "mimetype": "text/x-python",
   "name": "python",
   "nbconvert_exporter": "python",
   "pygments_lexer": "ipython3",
   "version": "3.11.5"
  }
 },
 "nbformat": 4,
 "nbformat_minor": 5
}
